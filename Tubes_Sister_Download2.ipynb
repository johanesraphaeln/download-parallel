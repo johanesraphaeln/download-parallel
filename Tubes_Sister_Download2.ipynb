{
  "nbformat": 4,
  "nbformat_minor": 0,
  "metadata": {
    "colab": {
      "provenance": [],
      "include_colab_link": true
    },
    "kernelspec": {
      "name": "python3",
      "display_name": "Python 3"
    },
    "language_info": {
      "name": "python"
    }
  },
  "cells": [
    {
      "cell_type": "markdown",
      "metadata": {
        "id": "view-in-github",
        "colab_type": "text"
      },
      "source": [
        "<a href=\"https://colab.research.google.com/github/johanesraphaeln/download-parallel/blob/main/Tubes_Sister_Download2.ipynb\" target=\"_parent\"><img src=\"https://colab.research.google.com/assets/colab-badge.svg\" alt=\"Open In Colab\"/></a>"
      ]
    },
    {
      "cell_type": "code",
      "source": [
        "!pip install validators"
      ],
      "metadata": {
        "colab": {
          "base_uri": "https://localhost:8080/"
        },
        "id": "rC5p-cTZjPVS",
        "outputId": "44fb8046-63aa-4422-969b-87e4f2c71e0f"
      },
      "execution_count": null,
      "outputs": [
        {
          "output_type": "stream",
          "name": "stdout",
          "text": [
            "Looking in indexes: https://pypi.org/simple, https://us-python.pkg.dev/colab-wheels/public/simple/\n",
            "Collecting validators\n",
            "  Downloading validators-0.20.0.tar.gz (30 kB)\n",
            "Requirement already satisfied: decorator>=3.4.0 in /usr/local/lib/python3.8/dist-packages (from validators) (4.4.2)\n",
            "Building wheels for collected packages: validators\n",
            "  Building wheel for validators (setup.py) ... \u001b[?25l\u001b[?25hdone\n",
            "  Created wheel for validators: filename=validators-0.20.0-py3-none-any.whl size=19581 sha256=028bc55f6cce0275be1e05980bdb5531c9e4ea40ee33fee919a183b0597ee55f\n",
            "  Stored in directory: /root/.cache/pip/wheels/19/09/72/3eb74d236bb48bd0f3c6c3c83e4e0c5bbfcbcad7c6c3539db8\n",
            "Successfully built validators\n",
            "Installing collected packages: validators\n",
            "Successfully installed validators-0.20.0\n"
          ]
        }
      ]
    },
    {
      "cell_type": "code",
      "execution_count": null,
      "metadata": {
        "id": "t0Xtyl1GMjwf"
      },
      "outputs": [],
      "source": [
        "# import library\n",
        "import threading\n",
        "import requests\n",
        "import validators\n",
        "import time"
      ]
    },
    {
      "cell_type": "code",
      "source": [
        "def get_url(n):\n",
        "    # declare lists\n",
        "    urls = []\n",
        "\n",
        "    # get url from user and save it to lists\n",
        "    for i in range(n):\n",
        "        url = input(f\"Enter Downloadable URL-{i+1}: \")\n",
        "        urls.append(url)\n",
        "    print()\n",
        "    # return lists\n",
        "    return urls"
      ],
      "metadata": {
        "id": "61CVp8PtbQ02"
      },
      "execution_count": null,
      "outputs": []
    },
    {
      "cell_type": "code",
      "source": [
        "def check_url(url):\n",
        "    #cek if url is valid or not\n",
        "    cek = validators.url(url)\n",
        "    return cek"
      ],
      "metadata": {
        "id": "b7AvWXxxbc8v"
      },
      "execution_count": null,
      "outputs": []
    },
    {
      "cell_type": "code",
      "source": [
        "def download_url(url):\n",
        "    # start time\n",
        "    t0 = time.time()\n",
        "\n",
        "    # Send request and download the file\n",
        "    response = requests.get(url)\n",
        "    data = response.content\n",
        "\n",
        "    # Save the file to disk\n",
        "    filename = url.split('/')[-1]\n",
        "    with open(filename, 'wb') as f:\n",
        "        f.write(data)\n",
        "\n",
        "    # return file and time for measuring\n",
        "    print(f\"File: {filename}, Time: {time.time() - t0} \")\n",
        "    return filename, time.time() - t0"
      ],
      "metadata": {
        "id": "aULabADdbgzT"
      },
      "execution_count": null,
      "outputs": []
    },
    {
      "cell_type": "code",
      "source": [
        "def download_serial(urls):\n",
        "    # start time for serial download\n",
        "    t0 = time.time()\n",
        "\n",
        "    # iterate download over urls\n",
        "    for url in urls:\n",
        "        print(f\"Downloading {url.split('/')[-1]}\")\n",
        "        result = download_url(url)\n",
        "\n",
        "    # output total time for serial download\n",
        "    print(f\"Total Time Serial Download: {time.time() - t0} seconds\")"
      ],
      "metadata": {
        "id": "A0C9ZSEtbkFx"
      },
      "execution_count": null,
      "outputs": []
    },
    {
      "cell_type": "code",
      "source": [
        "def download_parallel(urls):\n",
        "    # start time for parallel download\n",
        "    t0 = time.time()\n",
        "\n",
        "    # create thread for each URL\n",
        "    threads = [threading.Thread(target=download_url, args=(url,))\n",
        "               for url in urls]\n",
        "\n",
        "    for url in urls:\n",
        "        print(f\"Downloading {url.split('/')[-1]}\")\n",
        "    print()\n",
        "    # start all the threads\n",
        "    for thread in threads:\n",
        "        thread.start()\n",
        "\n",
        "    # wait for all threads to complete\n",
        "    for thread in threads:\n",
        "        thread.join()"
      ],
      "metadata": {
        "id": "oeNEwCCZbm-a"
      },
      "execution_count": null,
      "outputs": []
    },
    {
      "cell_type": "code",
      "source": [
        "#MAIN PROGRAM COMBINED\n",
        "\n",
        "if __name__ == \"__main__\":\n",
        "  print(\"=========WELCOME TO THE MULTIPLE DOWNLOADING PROGRAM=========\")\n",
        "  while True:\n",
        "    print(\"Features: \")\n",
        "    print(\"1. Serial Download\")\n",
        "    print(\"2. Parallel Download\")\n",
        "\n",
        "    x = int(input(\"Select the feature you want to use: \"))\n",
        "    print()\n",
        "    \n",
        "    if(x == 1):\n",
        "      # get user input for files length\n",
        "      n = int(input(\"How many files you want to download? \"))\n",
        "\n",
        "      if n < 2:\n",
        "        print(\"Sorry, please download atleast 2 files\")\n",
        "      else:\n",
        "        # get url from user\n",
        "        urls = get_url(n)\n",
        "\n",
        "        # check if url is downloadable\n",
        "        valid = True\n",
        "        for url in urls: \n",
        "          if check_url(url):\n",
        "            pass\n",
        "          else:\n",
        "            print(f\"{url} is not a downloadable URL\")\n",
        "            urls.remove(url)\n",
        "\n",
        "        if valid:\n",
        "          download_serial(urls)\n",
        "        \n",
        "      print()\n",
        "      ask = input(\"Do you want to use the program again?(y/n): \")\n",
        "\n",
        "      if ask == \"y\":\n",
        "        print()\n",
        "        continue\n",
        "      else:\n",
        "        break\n",
        "\n",
        "    elif(x == 2):\n",
        "      # get user input for files length\n",
        "      n = int(input(\"How many files you want to download? \"))\n",
        "\n",
        "      if n < 2:\n",
        "        print(\"Sorry, please download atleast 2 files\")\n",
        "      else:\n",
        "        # get url from user\n",
        "        urls = get_url(n)\n",
        "\n",
        "        # check if url is downloadable\n",
        "        valid = True\n",
        "        for url in urls: \n",
        "          if check_url(url):\n",
        "            pass\n",
        "          else:\n",
        "            print(f\"{url} is not a downloadable URL\")\n",
        "            urls.remove(url)\n",
        "\n",
        "        if valid:\n",
        "          download_parallel(urls)\n",
        "        else:\n",
        "          print(\"Sorry, please re-run and enter a valid URL to download\")\n",
        "      \n",
        "      print()\n",
        "      ask = input(\"Do you want to use the program again?(y/n): \")\n",
        "\n",
        "      if ask == \"y\":\n",
        "        print()\n",
        "        continue\n",
        "      else:\n",
        "        break\n"
      ],
      "metadata": {
        "id": "LocWnw-_jMHW"
      },
      "execution_count": null,
      "outputs": []
    },
    {
      "cell_type": "code",
      "source": [
        "# MAIN PROGRAM PARALLEL\n",
        "if __name__ == \"__main__\":\n",
        "    print(\"=========WELCOME TO THE PARALLEL DOWNLOADING PROGRAM=========\")\n",
        "    while True:\n",
        "        print(\"This is a simple program to download files using threads. \\nDownload will run concurently thus quickening the process of downloading multiple files.\")\n",
        "        print()\n",
        "        # get user input for files length\n",
        "        n = int(input(\"How many files you want to download? \"))\n",
        "\n",
        "        # n must be > 2\n",
        "        if n < 2:\n",
        "            print(\"Sorry, please download atleast 2 files\")\n",
        "        else:\n",
        "            # get url from user\n",
        "            urls = get_url(n)\n",
        "\n",
        "            # check if url is downloadable\n",
        "            for url in urls[:]:\n",
        "                if check_url(url):\n",
        "                    pass\n",
        "                else:\n",
        "                    #if not, remove it from list\n",
        "                    print(f\"{url} is not a downloadable URL\")\n",
        "                    urls.remove(url)\n",
        "    \n",
        "            #cek if list is empty or not\n",
        "            if len(urls) > 0:\n",
        "                download_parallel(urls)\n",
        "            else:\n",
        "                print(\n",
        "                    \"Sorry, please re-run and enter a valid URL to download\")\n",
        "\n",
        "            print()\n",
        "            ask = input(\"Do you want to use the program again?(y/n): \")\n",
        "\n",
        "            if ask == \"y\":\n",
        "                print()\n",
        "                continue\n",
        "            else:\n",
        "                break"
      ],
      "metadata": {
        "id": "sgtPsuosbqk-"
      },
      "execution_count": null,
      "outputs": []
    },
    {
      "cell_type": "code",
      "source": [
        "# MAIN PROGRAM SERIAL\n",
        "if __name__ == \"__main__\":\n",
        "    print(\"=========WELCOME TO SERIAL DOWNLOADING PROGRAM=========\")\n",
        "    while True:\n",
        "        print()\n",
        "\n",
        "        # get user input for files length\n",
        "        n = int(input(\"How many files you want to download? \"))\n",
        "\n",
        "        # check files length\n",
        "        if n < 2:\n",
        "            print(\"Sorry, please download atleast 2 files\")\n",
        "        else:\n",
        "            # get url from user\n",
        "            urls = get_url(n)\n",
        "\n",
        "            # check if url is downloadable, remove it if not valid/downloadble\n",
        "            for url in urls[:]:\n",
        "                if check_url(url):\n",
        "                    continue\n",
        "                else:\n",
        "                    print(f\"{url} is not a downloadable URL\")\n",
        "                    urls.remove(url)\n",
        "\n",
        "            # check if lists URLs is empty\n",
        "            if len(urls) > 0:\n",
        "                download_serial(urls)\n",
        "            else:\n",
        "                print(\"Sorry, please re-run and enter a valid URL to download\")\n",
        "\n",
        "        print()\n",
        "        ask = input(\"Do you want to use the program again?(y/n): \")\n",
        "\n",
        "        if ask == \"y\":\n",
        "            print()\n",
        "            continue\n",
        "        else:\n",
        "            break"
      ],
      "metadata": {
        "id": "6N8NTlJgdUdZ",
        "colab": {
          "base_uri": "https://localhost:8080/"
        },
        "outputId": "8fcd59ae-fe92-4086-92d7-f81837562c8b"
      },
      "execution_count": null,
      "outputs": [
        {
          "name": "stdout",
          "output_type": "stream",
          "text": [
            "=========WELCOME TO SERIAL DOWNLOADING PROGRAM=========\n",
            "\n",
            "How many files you want to download? 4\n",
            "Enter Downloadable URL-1: https://filesamples.com/samples/video/m4v/sample_960x400_ocean_with_audio.m4v\n",
            "Enter Downloadable URL-2: https://filesamples.com/samples/video/m4v/sample_960x540.m4v\n",
            "Enter Downloadable URL-3: https://filesamples.com/samples/video/m4v/sample_1280x720.m4v\n",
            "Enter Downloadable URL-4: https://filesamples.com/samples/video/m4v/sample_640x360.m4v\n",
            "\n",
            "Downloading sample_960x400_ocean_with_audio.m4v\n",
            "File: sample_960x400_ocean_with_audio.m4v, Time: 12.508406639099121 \n",
            "Downloading sample_960x540.m4v\n",
            "File: sample_960x540.m4v, Time: 0.6198070049285889 \n",
            "Downloading sample_1280x720.m4v\n",
            "File: sample_1280x720.m4v, Time: 7.597609519958496 \n",
            "Downloading sample_640x360.m4v\n",
            "File: sample_640x360.m4v, Time: 0.576014518737793 \n",
            "Total Time Serial Download: 21.305870532989502 seconds\n",
            "\n",
            "Do you want to use the program again?(y/n): n\n"
          ]
        }
      ]
    }
  ]
}